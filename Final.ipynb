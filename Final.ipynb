{
 "cells": [
  {
   "cell_type": "code",
   "execution_count": 54,
   "id": "e3ce1e94",
   "metadata": {
    "scrolled": true
   },
   "outputs": [
    {
     "name": "stdout",
     "output_type": "stream",
     "text": [
      "for x=0, we have y= 3\n",
      "Concerning the learning objective “Learning to use jupyter notebook” I feel:  Very Confident\n",
      "Concerning the learning objective “Importing and using libraries” I feel:  Somewhat Confident\n",
      "Concerning the learning objective “Input and utput from/to screen” I feel:  Very Confident\n",
      "Concerning the learning objective “Using numpy” I feel:  Very Confident\n",
      "Concerning the learning objective “Using matplotlib” I feel:  Very Confident\n",
      "Concerning the learning objective “Using for and while loops” I feel:  Not Very Confident\n",
      "Concerning the learning objective “Using if blocks” I feel: Not Very Confident\n",
      "Concerning the learning objective “Creating and using python functions” I feel:  Somewhat Confident\n",
      "Concerning the learning objective “Indexing of arrays” I feel:  Not Very Confident\n",
      "Concerning the learning objective “Manipulating arrays” I feel:  Somewhat Confident\n",
      "Concerning the learning objective “Commenting python code” I feel:  Very Confident\n"
     ]
    },
    {
     "data": {
      "image/png": "[encoded data removed]",
      "text/plain": [
       "<Figure size 432x288 with 1 Axes>"
      ]
     },
     "metadata": {
      "needs_background": "light"
     },
     "output_type": "display_data"
    }
   ],
   "source": [
    "import matplotlib.pyplot as plt\n",
    "import numpy as np\n",
    "import math\n",
    "\n",
    "def function(x):\n",
    "    return ((x*x*x)+(3*x*x)+(3*x)+3)\n",
    "\n",
    "x=[]\n",
    "new_x= -10\n",
    "for i in range(0,21):\n",
    "    x+=[new_x]\n",
    "    new_x+= 1\n",
    "    \n",
    "y=[]\n",
    "for i in range(0,len(x)):\n",
    "    new_y=function(x[i])\n",
    "    y+=[new_y]\n",
    "    if (x[i]==0):\n",
    "        print(\"for x=0, we have y=\",new_y)\n",
    "\n",
    "plt.plot(x, y)\n",
    "plt.xlim(-11,11)\n",
    "plt.plot(0,3,'o')\n",
    "    \n",
    "x_a=('Very Confident')\n",
    "xx=('Somewhat Confident')\n",
    "xxx=('Not Very Confident')\n",
    "xxxx=('Quite Unprepared')\n",
    "print('Concerning the learning objective “Learning to use jupyter notebook” I feel: ', x_a)\n",
    "print('Concerning the learning objective “Importing and using libraries” I feel: ', xx)\n",
    "print('Concerning the learning objective “Input and utput from/to screen” I feel: ', x_a)\n",
    "print('Concerning the learning objective “Using numpy” I feel: ', x_a)\n",
    "print('Concerning the learning objective “Using matplotlib” I feel: ', x_a)\n",
    "print('Concerning the learning objective “Using for and while loops” I feel: ', xxx)\n",
    "print('Concerning the learning objective “Using if blocks” I feel:', xxx)\n",
    "print('Concerning the learning objective “Creating and using python functions” I feel: ', xx)\n",
    "print('Concerning the learning objective “Indexing of arrays” I feel: ', xxx)\n",
    "print('Concerning the learning objective “Manipulating arrays” I feel: ', xx)\n",
    "print('Concerning the learning objective “Commenting python code” I feel: ', x_a)"
   ]
  }
 ],
 "metadata": {
  "kernelspec": {
   "display_name": "Python 3 (ipykernel)",
   "language": "python",
   "name": "python3"
  },
  "language_info": {
   "codemirror_mode": {
    "name": "ipython",
    "version": 3
   },
   "file_extension": ".py",
   "mimetype": "text/x-python",
   "name": "python",
   "nbconvert_exporter": "python",
   "pygments_lexer": "ipython3",
   "version": "3.9.12"
  }
 },
 "nbformat": 4,
 "nbformat_minor": 5
}
