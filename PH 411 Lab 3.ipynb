{
 "cells": [
  {
   "cell_type": "code",
   "execution_count": null,
   "id": "554159c2",
   "metadata": {},
   "outputs": [],
   "source": [
    "# Part High Pass \n",
    "#Hertz\n",
    "f=(5, 50, 100, 300, 500, 800, 1000, 2000, 3000, 10000, 12000, 15000, 17000, 20000, 23000, 50000, 100000, 300000, 600000, 1000000)\n",
    "#Volts\n",
    "V_out=(0.03, 0.376, 0.760, 2.16, 3.52, 5.52, 6.56, 11.6, 13.8, 18, 18, 18.4, 18.4, 18.4, 18.4, 18.4, 18.4, 18.8, 19.2, 19.6)\n",
    "V_in=()\n",
    "#micro seconds\n",
    "\\deltaT=(196, 20.2, 10.2, 3.32, 2, 1.24, 1.02, 0.49, 0.332, 0.104, 0.08, 0.077, 0.057, 0.052, 0.043, 0.02, 0.0098, 0.00326, 0.00168, 0.001)\n",
    "\n",
    "# Part Low Pass\n",
    "f=(5, 50, 100, 300, 500, 800, 1000, 2000, 3000, 10000, 12000, 15000, 17000, 20000, 23000, 50000, 100000, 300000, 600000, 1000000)\n",
    "V_out=()\n",
    "V_in=()\n",
    "\\deltaT=()\n"
   ]
  }
 ],
 "metadata": {
  "kernelspec": {
   "display_name": "Python 3 (ipykernel)",
   "language": "python",
   "name": "python3"
  },
  "language_info": {
   "codemirror_mode": {
    "name": "ipython",
    "version": 3
   },
   "file_extension": ".py",
   "mimetype": "text/x-python",
   "name": "python",
   "nbconvert_exporter": "python",
   "pygments_lexer": "ipython3",
   "version": "3.9.12"
  }
 },
 "nbformat": 4,
 "nbformat_minor": 5
}
