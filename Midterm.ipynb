{
 "cells": [
  {
   "cell_type": "code",
   "execution_count": 9,
   "id": "8fdba1b0",
   "metadata": {},
   "outputs": [
    {
     "name": "stdout",
     "output_type": "stream",
     "text": [
      "Give first integer: 7\n",
      "Give second integer: 8\n",
      "7\n",
      "2\n",
      "2\n"
     ]
    }
   ],
   "source": [
    "import matplotlib.pyplot as plt\n",
    "import numpy as np\n",
    "import math\n",
    "\n",
    "S1=int(input('Give first integer: '))\n",
    "S2=int(input('Give second integer: '))\n",
    "\n",
    "def findFactors(n):\n",
    "    found_factor = False\n",
    "    for i in range(2,n):\n",
    "        if n % i == 0:\n",
    "            found_factor = True\n",
    "            findFactors(i)\n",
    "    if found_factor == False:\n",
    "        print(n)\n",
    "            \n",
    "        \n",
    "findFactors(S1)\n",
    "findFactors(S2)\n"
   ]
  }
 ],
 "metadata": {
  "kernelspec": {
   "display_name": "Python 3 (ipykernel)",
   "language": "python",
   "name": "python3"
  },
  "language_info": {
   "codemirror_mode": {
    "name": "ipython",
    "version": 3
   },
   "file_extension": ".py",
   "mimetype": "text/x-python",
   "name": "python",
   "nbconvert_exporter": "python",
   "pygments_lexer": "ipython3",
   "version": "3.9.12"
  }
 },
 "nbformat": 4,
 "nbformat_minor": 5
}
