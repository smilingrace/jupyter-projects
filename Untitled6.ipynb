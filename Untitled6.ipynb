{
 "cells": [
  {
   "cell_type": "code",
   "execution_count": 1,
   "id": "e8fec39e",
   "metadata": {},
   "outputs": [
    {
     "ename": "AttributeError",
     "evalue": "'function' object has no attribute 'left'",
     "output_type": "error",
     "traceback": [
      "\u001b[1;31m---------------------------------------------------------------------------\u001b[0m",
      "\u001b[1;31mAttributeError\u001b[0m                            Traceback (most recent call last)",
      "Input \u001b[1;32mIn [1]\u001b[0m, in \u001b[0;36m<cell line: 58>\u001b[1;34m()\u001b[0m\n\u001b[0;32m     55\u001b[0m \u001b[38;5;66;03m# Draw the plant fractal\u001b[39;00m\n\u001b[0;32m     56\u001b[0m draw_plant(length, angle, depth)\n\u001b[1;32m---> 58\u001b[0m \u001b[43mcan\u001b[49m\u001b[43m(\u001b[49m\u001b[43mlength\u001b[49m\u001b[43m,\u001b[49m\u001b[43m \u001b[49m\u001b[43mangle\u001b[49m\u001b[43m,\u001b[49m\u001b[43m \u001b[49m\u001b[43mdeep\u001b[49m\u001b[43m)\u001b[49m\n\u001b[0;32m     60\u001b[0m \u001b[38;5;66;03m# Close the turtle graphics window\u001b[39;00m\n\u001b[0;32m     61\u001b[0m turtle\u001b[38;5;241m.\u001b[39mdone()\n",
      "Input \u001b[1;32mIn [1]\u001b[0m, in \u001b[0;36mcan\u001b[1;34m(length, angle, deep)\u001b[0m\n\u001b[0;32m     13\u001b[0m turtle\u001b[38;5;241m.\u001b[39mforward(length)\n\u001b[0;32m     14\u001b[0m turtle\u001b[38;5;241m.\u001b[39mleft(angle)\n\u001b[1;32m---> 15\u001b[0m \u001b[43mcan\u001b[49m\u001b[38;5;241;43m.\u001b[39;49m\u001b[43mleft\u001b[49m(angle)\n\u001b[0;32m     17\u001b[0m \u001b[38;5;28;01mfor\u001b[39;00m _ \u001b[38;5;129;01min\u001b[39;00m \u001b[38;5;28mrange\u001b[39m(depth):\n\u001b[0;32m     18\u001b[0m     draw_plant(length \u001b[38;5;241m*\u001b[39m \u001b[38;5;241m0.7\u001b[39m, angle, depth \u001b[38;5;241m-\u001b[39m \u001b[38;5;241m1\u001b[39m)\n",
      "\u001b[1;31mAttributeError\u001b[0m: 'function' object has no attribute 'left'"
     ]
    }
   ],
   "source": [
    "import turtle\n",
    "\n",
    "def draw_plant(length, angle, depth):\n",
    "    if depth == 0:\n",
    "        turtle.forward(length)\n",
    "        return\n",
    "    \n",
    "def can(length, angle, deep):\n",
    "    if deep == 0:\n",
    "        turtle.forward(length)\n",
    "        return\n",
    "    \n",
    "    turtle.forward(length)\n",
    "    turtle.left(angle)\n",
    "    can.left(angle)\n",
    "    \n",
    "    for _ in range(depth):\n",
    "        draw_plant(length * 0.7, angle, depth - 1)\n",
    "        turtle.right(angle * 2)\n",
    "    turtle.left(angle)\n",
    "    turtle.backward(length)\n",
    "    \n",
    "    for _ in range(depth):\n",
    "        can(length*0.1, angle, deep -0.5)\n",
    "        can.left(angle*0.1)\n",
    "    can.left(angle)\n",
    "    can.backward(length)\n",
    "    \n",
    "    draw_plant(length * 0.7, angle, depth - 1)\n",
    "\n",
    "    turtle.right(angle * 2)\n",
    "    draw_plant(length * 0.7, angle, depth - 1)\n",
    "\n",
    "    turtle.left(angle)\n",
    "    turtle.backward(length)\n",
    "\n",
    "# Initialize turtle\n",
    "turtle.speed('fastest')\n",
    "turtle.left(90)  # Set initial orientation\n",
    "\n",
    "# Set up the window\n",
    "window = turtle.Screen()\n",
    "window.bgcolor('black')\n",
    "\n",
    "# Set up the turtle appearance\n",
    "turtle.color('green')\n",
    "turtle.pensize(2)\n",
    "\n",
    "# Set up the plant parameters\n",
    "length = 100\n",
    "angle = 35\n",
    "depth = 10\n",
    "deep=8\n",
    "\n",
    "# Draw the plant fractal\n",
    "draw_plant(length, angle, depth)\n",
    "\n",
    "can(length, angle, deep)\n",
    "\n",
    "# Close the turtle graphics window\n",
    "turtle.done()"
   ]
  }
 ],
 "metadata": {
  "kernelspec": {
   "display_name": "Python 3 (ipykernel)",
   "language": "python",
   "name": "python3"
  },
  "language_info": {
   "codemirror_mode": {
    "name": "ipython",
    "version": 3
   },
   "file_extension": ".py",
   "mimetype": "text/x-python",
   "name": "python",
   "nbconvert_exporter": "python",
   "pygments_lexer": "ipython3",
   "version": "3.9.12"
  }
 },
 "nbformat": 4,
 "nbformat_minor": 5
}
