{
 "cells": [
  {
   "cell_type": "code",
   "execution_count": 2,
   "id": "b2a4f84c",
   "metadata": {},
   "outputs": [
    {
     "name": "stdout",
     "output_type": "stream",
     "text": [
      "Enter an RNA sequence: uagc\n",
      "Complementary DNA sequence: ATCG\n"
     ]
    }
   ],
   "source": [
    "import matplotlib.pyplot as plt\n",
    "import numpy as np\n",
    "def rna_to_dna(rna_sequence):\n",
    "    # Define a dictionary mapping RNA bases to DNA bases\n",
    "    base_pairs = {'A': 'T', 'U': 'A', 'C': 'G', 'G': 'C'}\n",
    "    \n",
    "    # Convert RNA sequence to DNA sequence\n",
    "    dna_sequence = ''\n",
    "    for base in rna_sequence:\n",
    "        dna_base = base_pairs.get(base.upper(), '')\n",
    "        dna_sequence += dna_base\n",
    "    \n",
    "    return dna_sequence\n",
    "\n",
    "rna_sequence = input(\"Enter an RNA sequence: \")\n",
    "\n",
    "dna_sequence = rna_to_dna(rna_sequence)\n",
    "\n",
    "print(\"Complementary DNA sequence:\", dna_sequence)"
   ]
  },
  {
   "cell_type": "code",
   "execution_count": 8,
   "id": "7b1d9930",
   "metadata": {},
   "outputs": [
    {
     "name": "stdout",
     "output_type": "stream",
     "text": [
      "0\n",
      "1\n",
      "2\n",
      "3\n",
      "4\n",
      "5\n",
      "6\n",
      "7\n",
      "8\n",
      "9\n",
      "10\n",
      "11\n",
      "12\n",
      "13\n",
      "14\n"
     ]
    }
   ],
   "source": [
    "for i in range(0,15): \n",
    "    print(i)"
   ]
  },
  {
   "cell_type": "code",
   "execution_count": null,
   "id": "eaa5fcb5",
   "metadata": {},
   "outputs": [],
   "source": []
  }
 ],
 "metadata": {
  "kernelspec": {
   "display_name": "Python 3 (ipykernel)",
   "language": "python",
   "name": "python3"
  },
  "language_info": {
   "codemirror_mode": {
    "name": "ipython",
    "version": 3
   },
   "file_extension": ".py",
   "mimetype": "text/x-python",
   "name": "python",
   "nbconvert_exporter": "python",
   "pygments_lexer": "ipython3",
   "version": "3.9.12"
  }
 },
 "nbformat": 4,
 "nbformat_minor": 5
}
